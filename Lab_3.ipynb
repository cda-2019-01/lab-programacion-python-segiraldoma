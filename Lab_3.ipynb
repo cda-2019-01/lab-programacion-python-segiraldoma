{
 "cells": [
  {
   "cell_type": "code",
   "execution_count": 327,
   "metadata": {},
   "outputs": [
    {
     "data": {
      "text/plain": [
       "['E\\t1\\t1999-02-28\\tb,g,f\\tjjj:3,bbb:0,ddd:9,ggg:8,hhh:2\\n',\n",
       " 'A\\t2\\t1999-10-28\\ta,f,c\\tccc:2,ddd:0,aaa:3,hhh:9\\n',\n",
       " 'B\\t5\\t1998-05-02\\tf,e,a,c\\tddd:2,ggg:5,ccc:6,jjj:1\\n',\n",
       " 'A\\t3\\t1999-08-28\\ta,b\\thhh:9,iii:5,eee:7,bbb:1\\n',\n",
       " 'C\\t6\\t1999-12-01\\tf,g,d,a\\tiii:6,ddd:5,eee:4,jjj:3\\n',\n",
       " 'A\\t7\\t1998-07-28\\tc,d\\tbbb:2,hhh:0,ccc:4,fff:1,aaa:7\\n',\n",
       " 'A\\t9\\t1997-02-28\\tg,d,a\\taaa:5,fff:8,ddd:2,iii:0,jjj:7,ccc:1\\n',\n",
       " 'B\\t1\\t1999-05-10\\tb,a\\tfff:3,hhh:1,ddd:2\\n',\n",
       " 'E\\t2\\t1997-04-12\\td,e,a,f\\teee:4,ccc:5,iii:9,fff:7,ggg:6,bbb:0\\n',\n",
       " 'B\\t3\\t1999-11-23\\td,b,g,f\\tbbb:7,jjj:9,fff:5,iii:4,ggg:2,eee:3\\n',\n",
       " 'C\\t7\\t1998-01-17\\td,c,f,b\\thhh:6,eee:4,iii:0,fff:2,jjj:1\\n',\n",
       " 'C\\t5\\t1998-12-28\\td,e,a,c\\tbbb:7,iii:6,ggg:9\\n',\n",
       " 'D\\t3\\t1999-10-15\\tg,e,f,b\\tbbb:9,aaa:3,ccc:6,fff:4,eee:2\\n',\n",
       " 'E\\t8\\t1998-11-01\\tc,f\\taaa:8,ddd:5,jjj:1\\n',\n",
       " 'B\\t9\\t1999-08-12\\td,b\\tccc:0,jjj:6,fff:7,ddd:3,aaa:2\\n',\n",
       " 'D\\t1\\t1997-12-01\\tf,e\\tccc:0,eee:6,bbb:9,ddd:3\\n',\n",
       " 'E\\t3\\t1997-07-28\\te,b,f\\tbbb:6,iii:3,hhh:5,fff:4,ggg:9,ddd:2\\n',\n",
       " 'D\\t5\\t1998-08-12\\tg,a\\thhh:4,jjj:5,ccc:9\\n',\n",
       " 'E\\t8\\t1999-08-24\\te,c,f,a\\tccc:1,iii:6,fff:9\\n',\n",
       " 'E\\t9\\t1998-01-23\\te,a\\tbbb:9,aaa:3,fff:1\\n',\n",
       " 'E\\t7\\t1999-06-22\\te,f\\tddd:9,iii:2,aaa:4\\n',\n",
       " 'E\\t3\\t1999-04-24\\tc,b,g\\tccc:5,fff:8,iii:7\\n',\n",
       " 'D\\t5\\t1999-06-25\\tc,f,a\\teee:3,jjj:2,ddd:7\\n',\n",
       " 'A\\t1\\t1999-08-25\\tf,a,d\\tjjj:1,ggg:0,ccc:7,ddd:9,bbb:3\\n',\n",
       " 'E\\t4\\t1997-07-26\\tc,d\\tjjj:6,ccc:0,aaa:1,hhh:9,iii:7,ggg:8\\n',\n",
       " 'E\\t6\\t1997-09-24\\te,d,c\\tfff:3,eee:6,iii:4,bbb:7,ddd:0,ccc:1\\n',\n",
       " 'A\\t8\\t1997-09-28\\ta,e,f\\tfff:0,ddd:5,ccc:4\\n',\n",
       " 'E\\t5\\t1999-06-22\\tc,a,g\\tggg:6,hhh:3,ddd:9,ccc:0,jjj:7\\n',\n",
       " 'A\\t6\\t1999-07-29\\tf,e\\thhh:6,jjj:0,eee:5,iii:7,ccc:3\\n',\n",
       " 'C\\t0\\t1999-08-22\\tf,c,a,g\\teee:1,fff:4,aaa:2,ccc:7,ggg:0,ddd:6\\n',\n",
       " 'A\\t1\\t1998-04-26\\tb,f\\tccc:6,aaa:9,eee:5,ddd:0,bbb:3\\n',\n",
       " 'D\\t2\\t1998-02-24\\tb,f\\tbbb:7,hhh:1,aaa:6,iii:4,fff:9,ddd:5\\n',\n",
       " 'E\\t5\\t1999-03-24\\ta,c\\tfff:3,ccc:1,ggg:2,eee:5\\n',\n",
       " 'B\\t4\\t1998-03-23\\tb,f,c\\tiii:7,ggg:3,ddd:0,jjj:8,hhh:5,ccc:1\\n',\n",
       " 'B\\t6\\t1999-04-21\\tf,a,e\\thhh:6,ccc:3,jjj:0,bbb:8,ddd:7\\n',\n",
       " 'D\\t7\\t1999-02-29\\ta,f\\taaa:0,fff:5,ddd:3\\n',\n",
       " 'B\\t8\\t1997-05-21\\tc,a\\tddd:5,jjj:2,iii:7,ccc:0,bbb:4\\n',\n",
       " 'C\\t9\\t1997-07-22\\tc,a,e,f\\teee:0,fff:2,hhh:6\\n',\n",
       " 'E\\t1\\t1999-09-28\\te,d\\tfff:9,iii:2,eee:0\\n',\n",
       " 'E\\t5\\t1998-01-26\\tf,a,d\\thhh:8,ggg:3,jjj:5\\n']"
      ]
     },
     "execution_count": 327,
     "metadata": {},
     "output_type": "execute_result"
    }
   ],
   "source": [
    "x = open('data.csv','r').readlines() #Se lee el archivo\n",
    "x"
   ]
  },
  {
   "cell_type": "code",
   "execution_count": 244,
   "metadata": {},
   "outputs": [
    {
     "data": {
      "text/plain": [
       "['E\\t1\\t1999-02-28\\tb,g,f\\tjjj:3,bbb:0,ddd:9,ggg:8,hhh:2',\n",
       " 'A\\t2\\t1999-10-28\\ta,f,c\\tccc:2,ddd:0,aaa:3,hhh:9',\n",
       " 'B\\t5\\t1998-05-02\\tf,e,a,c\\tddd:2,ggg:5,ccc:6,jjj:1',\n",
       " 'A\\t3\\t1999-08-28\\ta,b\\thhh:9,iii:5,eee:7,bbb:1',\n",
       " 'C\\t6\\t1999-12-01\\tf,g,d,a\\tiii:6,ddd:5,eee:4,jjj:3',\n",
       " 'A\\t7\\t1998-07-28\\tc,d\\tbbb:2,hhh:0,ccc:4,fff:1,aaa:7',\n",
       " 'A\\t9\\t1997-02-28\\tg,d,a\\taaa:5,fff:8,ddd:2,iii:0,jjj:7,ccc:1',\n",
       " 'B\\t1\\t1999-05-10\\tb,a\\tfff:3,hhh:1,ddd:2',\n",
       " 'E\\t2\\t1997-04-12\\td,e,a,f\\teee:4,ccc:5,iii:9,fff:7,ggg:6,bbb:0',\n",
       " 'B\\t3\\t1999-11-23\\td,b,g,f\\tbbb:7,jjj:9,fff:5,iii:4,ggg:2,eee:3',\n",
       " 'C\\t7\\t1998-01-17\\td,c,f,b\\thhh:6,eee:4,iii:0,fff:2,jjj:1',\n",
       " 'C\\t5\\t1998-12-28\\td,e,a,c\\tbbb:7,iii:6,ggg:9',\n",
       " 'D\\t3\\t1999-10-15\\tg,e,f,b\\tbbb:9,aaa:3,ccc:6,fff:4,eee:2',\n",
       " 'E\\t8\\t1998-11-01\\tc,f\\taaa:8,ddd:5,jjj:1',\n",
       " 'B\\t9\\t1999-08-12\\td,b\\tccc:0,jjj:6,fff:7,ddd:3,aaa:2',\n",
       " 'D\\t1\\t1997-12-01\\tf,e\\tccc:0,eee:6,bbb:9,ddd:3',\n",
       " 'E\\t3\\t1997-07-28\\te,b,f\\tbbb:6,iii:3,hhh:5,fff:4,ggg:9,ddd:2',\n",
       " 'D\\t5\\t1998-08-12\\tg,a\\thhh:4,jjj:5,ccc:9',\n",
       " 'E\\t8\\t1999-08-24\\te,c,f,a\\tccc:1,iii:6,fff:9',\n",
       " 'E\\t9\\t1998-01-23\\te,a\\tbbb:9,aaa:3,fff:1',\n",
       " 'E\\t7\\t1999-06-22\\te,f\\tddd:9,iii:2,aaa:4',\n",
       " 'E\\t3\\t1999-04-24\\tc,b,g\\tccc:5,fff:8,iii:7',\n",
       " 'D\\t5\\t1999-06-25\\tc,f,a\\teee:3,jjj:2,ddd:7',\n",
       " 'A\\t1\\t1999-08-25\\tf,a,d\\tjjj:1,ggg:0,ccc:7,ddd:9,bbb:3',\n",
       " 'E\\t4\\t1997-07-26\\tc,d\\tjjj:6,ccc:0,aaa:1,hhh:9,iii:7,ggg:8',\n",
       " 'E\\t6\\t1997-09-24\\te,d,c\\tfff:3,eee:6,iii:4,bbb:7,ddd:0,ccc:1',\n",
       " 'A\\t8\\t1997-09-28\\ta,e,f\\tfff:0,ddd:5,ccc:4',\n",
       " 'E\\t5\\t1999-06-22\\tc,a,g\\tggg:6,hhh:3,ddd:9,ccc:0,jjj:7',\n",
       " 'A\\t6\\t1999-07-29\\tf,e\\thhh:6,jjj:0,eee:5,iii:7,ccc:3',\n",
       " 'C\\t0\\t1999-08-22\\tf,c,a,g\\teee:1,fff:4,aaa:2,ccc:7,ggg:0,ddd:6',\n",
       " 'A\\t1\\t1998-04-26\\tb,f\\tccc:6,aaa:9,eee:5,ddd:0,bbb:3',\n",
       " 'D\\t2\\t1998-02-24\\tb,f\\tbbb:7,hhh:1,aaa:6,iii:4,fff:9,ddd:5',\n",
       " 'E\\t5\\t1999-03-24\\ta,c\\tfff:3,ccc:1,ggg:2,eee:5',\n",
       " 'B\\t4\\t1998-03-23\\tb,f,c\\tiii:7,ggg:3,ddd:0,jjj:8,hhh:5,ccc:1',\n",
       " 'B\\t6\\t1999-04-21\\tf,a,e\\thhh:6,ccc:3,jjj:0,bbb:8,ddd:7',\n",
       " 'D\\t7\\t1999-02-29\\ta,f\\taaa:0,fff:5,ddd:3',\n",
       " 'B\\t8\\t1997-05-21\\tc,a\\tddd:5,jjj:2,iii:7,ccc:0,bbb:4',\n",
       " 'C\\t9\\t1997-07-22\\tc,a,e,f\\teee:0,fff:2,hhh:6',\n",
       " 'E\\t1\\t1999-09-28\\te,d\\tfff:9,iii:2,eee:0',\n",
       " 'E\\t5\\t1998-01-26\\tf,a,d\\thhh:8,ggg:3,jjj:5']"
      ]
     },
     "execution_count": 244,
     "metadata": {},
     "output_type": "execute_result"
    }
   ],
   "source": [
    "x = [z.replace('\\n', '') for z in x]\n",
    "x"
   ]
  },
  {
   "cell_type": "code",
   "execution_count": 245,
   "metadata": {},
   "outputs": [
    {
     "data": {
      "text/plain": [
       "[['E', '1', '1999-02-28', 'b,g,f', 'jjj:3,bbb:0,ddd:9,ggg:8,hhh:2'],\n",
       " ['A', '2', '1999-10-28', 'a,f,c', 'ccc:2,ddd:0,aaa:3,hhh:9'],\n",
       " ['B', '5', '1998-05-02', 'f,e,a,c', 'ddd:2,ggg:5,ccc:6,jjj:1'],\n",
       " ['A', '3', '1999-08-28', 'a,b', 'hhh:9,iii:5,eee:7,bbb:1'],\n",
       " ['C', '6', '1999-12-01', 'f,g,d,a', 'iii:6,ddd:5,eee:4,jjj:3'],\n",
       " ['A', '7', '1998-07-28', 'c,d', 'bbb:2,hhh:0,ccc:4,fff:1,aaa:7'],\n",
       " ['A', '9', '1997-02-28', 'g,d,a', 'aaa:5,fff:8,ddd:2,iii:0,jjj:7,ccc:1'],\n",
       " ['B', '1', '1999-05-10', 'b,a', 'fff:3,hhh:1,ddd:2'],\n",
       " ['E', '2', '1997-04-12', 'd,e,a,f', 'eee:4,ccc:5,iii:9,fff:7,ggg:6,bbb:0'],\n",
       " ['B', '3', '1999-11-23', 'd,b,g,f', 'bbb:7,jjj:9,fff:5,iii:4,ggg:2,eee:3'],\n",
       " ['C', '7', '1998-01-17', 'd,c,f,b', 'hhh:6,eee:4,iii:0,fff:2,jjj:1'],\n",
       " ['C', '5', '1998-12-28', 'd,e,a,c', 'bbb:7,iii:6,ggg:9'],\n",
       " ['D', '3', '1999-10-15', 'g,e,f,b', 'bbb:9,aaa:3,ccc:6,fff:4,eee:2'],\n",
       " ['E', '8', '1998-11-01', 'c,f', 'aaa:8,ddd:5,jjj:1'],\n",
       " ['B', '9', '1999-08-12', 'd,b', 'ccc:0,jjj:6,fff:7,ddd:3,aaa:2'],\n",
       " ['D', '1', '1997-12-01', 'f,e', 'ccc:0,eee:6,bbb:9,ddd:3'],\n",
       " ['E', '3', '1997-07-28', 'e,b,f', 'bbb:6,iii:3,hhh:5,fff:4,ggg:9,ddd:2'],\n",
       " ['D', '5', '1998-08-12', 'g,a', 'hhh:4,jjj:5,ccc:9'],\n",
       " ['E', '8', '1999-08-24', 'e,c,f,a', 'ccc:1,iii:6,fff:9'],\n",
       " ['E', '9', '1998-01-23', 'e,a', 'bbb:9,aaa:3,fff:1'],\n",
       " ['E', '7', '1999-06-22', 'e,f', 'ddd:9,iii:2,aaa:4'],\n",
       " ['E', '3', '1999-04-24', 'c,b,g', 'ccc:5,fff:8,iii:7'],\n",
       " ['D', '5', '1999-06-25', 'c,f,a', 'eee:3,jjj:2,ddd:7'],\n",
       " ['A', '1', '1999-08-25', 'f,a,d', 'jjj:1,ggg:0,ccc:7,ddd:9,bbb:3'],\n",
       " ['E', '4', '1997-07-26', 'c,d', 'jjj:6,ccc:0,aaa:1,hhh:9,iii:7,ggg:8'],\n",
       " ['E', '6', '1997-09-24', 'e,d,c', 'fff:3,eee:6,iii:4,bbb:7,ddd:0,ccc:1'],\n",
       " ['A', '8', '1997-09-28', 'a,e,f', 'fff:0,ddd:5,ccc:4'],\n",
       " ['E', '5', '1999-06-22', 'c,a,g', 'ggg:6,hhh:3,ddd:9,ccc:0,jjj:7'],\n",
       " ['A', '6', '1999-07-29', 'f,e', 'hhh:6,jjj:0,eee:5,iii:7,ccc:3'],\n",
       " ['C', '0', '1999-08-22', 'f,c,a,g', 'eee:1,fff:4,aaa:2,ccc:7,ggg:0,ddd:6'],\n",
       " ['A', '1', '1998-04-26', 'b,f', 'ccc:6,aaa:9,eee:5,ddd:0,bbb:3'],\n",
       " ['D', '2', '1998-02-24', 'b,f', 'bbb:7,hhh:1,aaa:6,iii:4,fff:9,ddd:5'],\n",
       " ['E', '5', '1999-03-24', 'a,c', 'fff:3,ccc:1,ggg:2,eee:5'],\n",
       " ['B', '4', '1998-03-23', 'b,f,c', 'iii:7,ggg:3,ddd:0,jjj:8,hhh:5,ccc:1'],\n",
       " ['B', '6', '1999-04-21', 'f,a,e', 'hhh:6,ccc:3,jjj:0,bbb:8,ddd:7'],\n",
       " ['D', '7', '1999-02-29', 'a,f', 'aaa:0,fff:5,ddd:3'],\n",
       " ['B', '8', '1997-05-21', 'c,a', 'ddd:5,jjj:2,iii:7,ccc:0,bbb:4'],\n",
       " ['C', '9', '1997-07-22', 'c,a,e,f', 'eee:0,fff:2,hhh:6'],\n",
       " ['E', '1', '1999-09-28', 'e,d', 'fff:9,iii:2,eee:0'],\n",
       " ['E', '5', '1998-01-26', 'f,a,d', 'hhh:8,ggg:3,jjj:5']]"
      ]
     },
     "execution_count": 245,
     "metadata": {},
     "output_type": "execute_result"
    }
   ],
   "source": [
    "x = [z.split('\\t') for z in x]\n",
    "x"
   ]
  },
  {
   "cell_type": "code",
   "execution_count": 55,
   "metadata": {},
   "outputs": [
    {
     "data": {
      "text/plain": [
       "190"
      ]
     },
     "execution_count": 55,
     "metadata": {},
     "output_type": "execute_result"
    }
   ],
   "source": [
    "sum([int(z[1]) for z in x[0:]])"
   ]
  },
  {
   "cell_type": "code",
   "execution_count": 292,
   "metadata": {},
   "outputs": [
    {
     "data": {
      "text/plain": [
       "['E',\n",
       " 'A',\n",
       " 'B',\n",
       " 'A',\n",
       " 'C',\n",
       " 'A',\n",
       " 'A',\n",
       " 'B',\n",
       " 'E',\n",
       " 'B',\n",
       " 'C',\n",
       " 'C',\n",
       " 'D',\n",
       " 'E',\n",
       " 'B',\n",
       " 'D',\n",
       " 'E',\n",
       " 'D',\n",
       " 'E',\n",
       " 'E',\n",
       " 'E',\n",
       " 'E',\n",
       " 'D',\n",
       " 'A',\n",
       " 'E',\n",
       " 'E',\n",
       " 'A',\n",
       " 'E',\n",
       " 'A',\n",
       " 'C',\n",
       " 'A',\n",
       " 'D',\n",
       " 'E',\n",
       " 'B',\n",
       " 'B',\n",
       " 'D',\n",
       " 'B',\n",
       " 'C',\n",
       " 'E',\n",
       " 'E']"
      ]
     },
     "execution_count": 292,
     "metadata": {},
     "output_type": "execute_result"
    }
   ],
   "source": [
    "b=int[z[0] for z in x[0:]]\n",
    "b"
   ]
  },
  {
   "cell_type": "code",
   "execution_count": 296,
   "metadata": {},
   "outputs": [
    {
     "data": {
      "text/plain": [
       "[1,\n",
       " 2,\n",
       " 5,\n",
       " 3,\n",
       " 6,\n",
       " 7,\n",
       " 9,\n",
       " 1,\n",
       " 2,\n",
       " 3,\n",
       " 7,\n",
       " 5,\n",
       " 3,\n",
       " 8,\n",
       " 9,\n",
       " 1,\n",
       " 3,\n",
       " 5,\n",
       " 8,\n",
       " 9,\n",
       " 7,\n",
       " 3,\n",
       " 5,\n",
       " 1,\n",
       " 4,\n",
       " 6,\n",
       " 8,\n",
       " 5,\n",
       " 6,\n",
       " 0,\n",
       " 1,\n",
       " 2,\n",
       " 5,\n",
       " 4,\n",
       " 6,\n",
       " 7,\n",
       " 8,\n",
       " 9,\n",
       " 1,\n",
       " 5]"
      ]
     },
     "execution_count": 296,
     "metadata": {},
     "output_type": "execute_result"
    }
   ],
   "source": [
    "e=[int(z[1]) for z in x[0:]]\n",
    "e"
   ]
  },
  {
   "cell_type": "code",
   "execution_count": 306,
   "metadata": {},
   "outputs": [
    {
     "name": "stdout",
     "output_type": "stream",
     "text": [
      "A,37\n",
      "B,36\n",
      "C,27\n",
      "D,23\n",
      "E,67\n"
     ]
    }
   ],
   "source": [
    "c = set(b)\n",
    "d = list(c)\n",
    "d.sort()\n",
    "lenb = len(b)\n",
    "lend = len(d)\n",
    "for i in range(0,lend):\n",
    "    n=0\n",
    "    for j in range(0,lenb):\n",
    "        if b[j] == d[i]:\n",
    "            n = n + e[j]\n",
    "    print(d[i], end=\"\")\n",
    "    print(',', end=\"\")\n",
    "    print(n)"
   ]
  },
  {
   "cell_type": "code",
   "execution_count": 321,
   "metadata": {},
   "outputs": [
    {
     "data": {
      "text/plain": [
       "['01', '02', '03', '04', '05', '06', '07', '08', '09', '10', '11', '12']"
      ]
     },
     "execution_count": 321,
     "metadata": {},
     "output_type": "execute_result"
    }
   ],
   "source": [
    "x = open('data.csv','r').readlines() #Leo el archivo\n",
    "x = [z.replace('\\n', '') for z in x] #Reemplazo retornos de carro por vacíos\n",
    "x = [z.split('\\t') for z in x] #Se separan donde esté una separación\n",
    "b = [z[2].split('-')[1] for z in x[0:]]\n",
    "a=list(set([z[2].split('-')[1] for z in x[0:]]))\n",
    "a.sort()\n"
   ]
  },
  {
   "cell_type": "code",
   "execution_count": 322,
   "metadata": {},
   "outputs": [
    {
     "name": "stdout",
     "output_type": "stream",
     "text": [
      "01,3\n",
      "02,4\n",
      "03,2\n",
      "04,4\n",
      "05,3\n",
      "06,3\n",
      "07,5\n",
      "08,6\n",
      "09,3\n",
      "10,2\n",
      "11,2\n",
      "12,3\n"
     ]
    }
   ],
   "source": [
    "lenb = len(b)\n",
    "lena = len(a)\n",
    "for i in range(0,lena):\n",
    "    n=0\n",
    "    for j in range(0,lenb):\n",
    "        if b[j] == a[i]:\n",
    "            n = n + 1\n",
    "    print(a[i], end=\"\")\n",
    "    print(',', end=\"\")\n",
    "    print(n)"
   ]
  },
  {
   "cell_type": "markdown",
   "metadata": {},
   "source": [
    "Solucion q05.py\n",
    "\n",
    "x = open('data.csv','r').readlines() #Se lee el archivo\n",
    "x = [z.replace('\\n', '') for z in x]\n",
    "x = [z.split('\\t') for z in x]\n",
    "b = [(z[0]) for z in x[0:]]\n",
    "e=[int(z[1]) for z in x[0:]]\n",
    "c = set(b)\n",
    "d = list(c)\n",
    "d.sort()\n",
    "lenb = len(b)\n",
    "lend = len(d)\n",
    "for i in range(0,lend):\n",
    "    max=e[i]\n",
    "    min=e[i]\n",
    "    for j in range(0,lenb):\n",
    "        if b[j] == d[i]:\n",
    "            if e[j] > max:\n",
    "                max= e[j]\n",
    "#     for j in range(0,lenb):\n",
    "#         if b[j] == d[i]:\n",
    "#             if e[j] < min:\n",
    "#                 min= e[j]\n",
    "                               \n",
    "    print(d[i], end=\"\")\n",
    "    print(',', end=\"\")\n",
    "    print(max, end=\"\")\n",
    "    print(',', end=\"\")\n",
    "    print(min)\n",
    "\n",
    "Solucion q06.py\n",
    "\n",
    "x = open('data.csv','r').readlines() #Leo el archivo\n",
    "x = [z.replace('\\n', '') for z in x] #Reemplazo retornos de carro por vacíos\n",
    "x = [z.split('\\t') for z in x] #Se separan donde esté una separación\n",
    "a = list([(z[4]) for z in x[0:]])\n",
    "h = \",\".join(a)\n",
    "j = h.split(',')\n",
    "k = list([(z[0:3]) for z in j[0:]])\n",
    "e = [int(z[4]) for z in j[0:]]\n",
    "f = set(k)\n",
    "d = list(f)\n",
    "d.sort()\n",
    "lenb = len(e)\n",
    "lend = len(d)\n",
    "for i in range(0,lend):\n",
    "    max=e[i]\n",
    "    min=e[i]\n",
    "    for j in range(0,lenb):\n",
    "        if k[j] == d[i]:\n",
    "            if e[j] > max:\n",
    "                max= e[j]\n",
    "    for j in range(0,lenb):\n",
    "        if k[j] == d[i]:\n",
    "            if e[j] < min:\n",
    "                min= e[j]                             \n",
    "    print(d[i], end=\"\")\n",
    "    print(',', end=\"\")\n",
    "    print(min, end=\"\")\n",
    "    print(',', end=\"\")\n",
    "    print(max)\n",
    "\n",
    "Solucion q07.py"
   ]
  },
  {
   "cell_type": "code",
   "execution_count": 429,
   "metadata": {},
   "outputs": [
    {
     "name": "stdout",
     "output_type": "stream",
     "text": [
      "('0', ['C'])\n",
      "('1', ['E', 'B', 'D', 'A', 'A', 'E'])\n",
      "('2', ['A', 'E', 'D'])\n",
      "('3', ['A', 'B', 'D', 'E', 'E'])\n",
      "('4', ['E', 'B'])\n",
      "('5', ['B', 'C', 'D', 'D', 'E', 'E', 'E'])\n",
      "('6', ['C', 'E', 'A', 'B'])\n",
      "('7', ['A', 'C', 'E', 'D'])\n",
      "('8', ['E', 'E', 'A', 'B'])\n",
      "('9', ['A', 'B', 'E', 'C'])\n"
     ]
    }
   ],
   "source": [
    "x = open('data.csv','r').readlines() #Leo el archivo\n",
    "x = [z.replace('\\n', '') for z in x] #Reemplazo retornos de carro por vacíos\n",
    "x = [z.split('\\t') for z in x] #Se separan donde esté una separación\n",
    "a = list([(z[4]) for z in x[0:]])\n",
    "h = \",\".join(a)\n",
    "j = h.split(',')\n",
    "k = [(z[1]) for z in x[0:]]\n",
    "e = list([(z[0]) for z in x[0:]])\n",
    "f = set(k)\n",
    "d = list(f)\n",
    "d.sort()\n",
    "lenb = len(e)\n",
    "lend = len(d)\n",
    "for i in range(0,lend):\n",
    "    y=[]\n",
    "    for j in range(0,lenb):\n",
    "        if k[j] == d[i]:\n",
    "            y.append(e[j])\n",
    "    u = d[i],y\n",
    "    print(u)"
   ]
  },
  {
   "cell_type": "markdown",
   "metadata": {},
   "source": [
    "Solucion q08.py"
   ]
  },
  {
   "cell_type": "code",
   "execution_count": 430,
   "metadata": {},
   "outputs": [
    {
     "name": "stdout",
     "output_type": "stream",
     "text": [
      "('0', ['C'])\n",
      "('1', ['A', 'A', 'B', 'D', 'E', 'E'])\n",
      "('2', ['A', 'D', 'E'])\n",
      "('3', ['A', 'B', 'D', 'E', 'E'])\n",
      "('4', ['B', 'E'])\n",
      "('5', ['B', 'C', 'D', 'D', 'E', 'E', 'E'])\n",
      "('6', ['A', 'B', 'C', 'E'])\n",
      "('7', ['A', 'C', 'D', 'E'])\n",
      "('8', ['A', 'B', 'E', 'E'])\n",
      "('9', ['A', 'B', 'C', 'E'])\n"
     ]
    }
   ],
   "source": [
    "x = open('data.csv','r').readlines() #Leo el archivo\n",
    "x = [z.replace('\\n', '') for z in x] #Reemplazo retornos de carro por vacíos\n",
    "x = [z.split('\\t') for z in x] #Se separan donde esté una separación\n",
    "a = list([(z[4]) for z in x[0:]])\n",
    "h = \",\".join(a)\n",
    "j = h.split(',')\n",
    "k = [(z[1]) for z in x[0:]]\n",
    "e = list([(z[0]) for z in x[0:]])\n",
    "f = set(k)\n",
    "d = list(f)\n",
    "d.sort()\n",
    "lenb = len(e)\n",
    "lend = len(d)\n",
    "for i in range(0,lend):\n",
    "    y=[]\n",
    "    for j in range(0,lenb):\n",
    "        if k[j] == d[i]:\n",
    "            y.append(e[j])\n",
    "            y.sort()\n",
    "    u = d[i],y\n",
    "    print(u)"
   ]
  },
  {
   "cell_type": "markdown",
   "metadata": {},
   "source": [
    "Solucion q09.py"
   ]
  },
  {
   "cell_type": "code",
   "execution_count": 432,
   "metadata": {},
   "outputs": [
    {
     "name": "stdout",
     "output_type": "stream",
     "text": [
      "('0', ['C'])\n",
      "('1', ['A', 'B', 'D', 'E'])\n",
      "('2', ['A', 'D', 'E'])\n",
      "('3', ['A', 'B', 'D', 'E'])\n",
      "('4', ['B', 'E'])\n",
      "('5', ['B', 'C', 'D', 'E'])\n",
      "('6', ['A', 'B', 'C', 'E'])\n",
      "('7', ['A', 'C', 'D', 'E'])\n",
      "('8', ['A', 'B', 'E'])\n",
      "('9', ['A', 'B', 'C', 'E'])\n"
     ]
    }
   ],
   "source": [
    "x = open('data.csv','r').readlines() #Leo el archivo\n",
    "x = [z.replace('\\n', '') for z in x] #Reemplazo retornos de carro por vacíos\n",
    "x = [z.split('\\t') for z in x] #Se separan donde esté una separación\n",
    "a = list([(z[4]) for z in x[0:]])\n",
    "h = \",\".join(a)\n",
    "j = h.split(',')\n",
    "k = [(z[1]) for z in x[0:]]\n",
    "e = list([(z[0]) for z in x[0:]])\n",
    "f = set(k)\n",
    "d = list(f)\n",
    "d.sort()\n",
    "lenb = len(e)\n",
    "lend = len(d)\n",
    "for i in range(0,lend):\n",
    "    y=[]\n",
    "    for j in range(0,lenb):\n",
    "        if k[j] == d[i]:\n",
    "            y.append(e[j])\n",
    "            w=list(set(y))\n",
    "            w.sort()\n",
    "    u = d[i],w\n",
    "    print(u)"
   ]
  },
  {
   "cell_type": "markdown",
   "metadata": {},
   "source": [
    "Solucion q10.py"
   ]
  },
  {
   "cell_type": "code",
   "execution_count": 433,
   "metadata": {},
   "outputs": [
    {
     "name": "stdout",
     "output_type": "stream",
     "text": [
      "aaa,13\n",
      "bbb,16\n",
      "ccc,23\n",
      "ddd,23\n",
      "eee,15\n",
      "fff,20\n",
      "ggg,13\n",
      "hhh,16\n",
      "iii,18\n",
      "jjj,18\n"
     ]
    }
   ],
   "source": [
    "x = open('data.csv','r').readlines() #Leo el archivo\n",
    "x = [z.replace('\\n', '') for z in x] #Reemplazo retornos de carro por vacíos\n",
    "x = [z.split('\\t') for z in x] #Se separan donde esté una separación\n",
    "a = list([(z[4]) for z in x[0:]])\n",
    "h = \",\".join(a)\n",
    "j = h.split(',')\n",
    "k = list([(z[0:3]) for z in j[0:]])\n",
    "f = set(k)\n",
    "d = list(f)\n",
    "d.sort()\n",
    "lenb = len(k)\n",
    "lend = len(d)\n",
    "for i in range(0,lend):\n",
    "    n=0\n",
    "    for j in range(0,lenb):\n",
    "        if k[j] == d[i]:\n",
    "            n = n +1\n",
    "    print(d[i], end=\"\")\n",
    "    print(',', end=\"\")\n",
    "    print(n)"
   ]
  },
  {
   "cell_type": "markdown",
   "metadata": {},
   "source": [
    "Solucion q11.py"
   ]
  },
  {
   "cell_type": "code",
   "execution_count": 440,
   "metadata": {},
   "outputs": [
    {
     "name": "stdout",
     "output_type": "stream",
     "text": [
      "E,3,5\n",
      "A,3,4\n",
      "B,4,4\n",
      "A,2,4\n",
      "C,4,4\n",
      "A,2,5\n",
      "A,3,6\n",
      "B,2,3\n",
      "E,4,6\n",
      "B,4,6\n",
      "C,4,5\n",
      "C,4,3\n",
      "D,4,5\n",
      "E,2,3\n",
      "B,2,5\n",
      "D,2,4\n",
      "E,3,6\n",
      "D,2,3\n",
      "E,4,3\n",
      "E,2,3\n",
      "E,2,3\n",
      "E,3,3\n",
      "D,3,3\n",
      "A,3,5\n",
      "E,2,6\n",
      "E,3,6\n",
      "A,3,3\n",
      "E,3,5\n",
      "A,2,5\n",
      "C,4,6\n",
      "A,2,5\n",
      "D,2,6\n",
      "E,2,4\n",
      "B,3,6\n",
      "B,3,5\n",
      "D,2,3\n",
      "B,2,5\n",
      "C,4,3\n",
      "E,2,3\n",
      "E,3,3\n"
     ]
    }
   ],
   "source": [
    "x = open('data.csv','r').readlines() #Leo el archivo\n",
    "x = [z.replace('\\n', '') for z in x] #Reemplazo retornos de carro por vacíos\n",
    "x = [z.split('\\t') for z in x] #Se separan donde esté una separación\n",
    "a = list([(z[4]) for z in x[0:]])\n",
    "k = list([(z[3]) for z in x[0:]])\n",
    "e = [z.split(',') for z in k]\n",
    "d = list([(z[0]) for z in x[0:]])\n",
    "m = list([(z[4]) for z in x[0:]])\n",
    "h = [z.split(',') for z in m]\n",
    "lend = len(d)\n",
    "import math\n",
    "for i in range(0,lend):\n",
    "    v = len(e[i])\n",
    "    u = math.floor(len(h[i]))\n",
    "    print(d[i], end=\"\")\n",
    "    print(',', end=\"\")\n",
    "    print(v, end=\"\")\n",
    "    print(',', end=\"\")\n",
    "    print(u)"
   ]
  },
  {
   "cell_type": "markdown",
   "metadata": {},
   "source": [
    "Solucion q12.py"
   ]
  },
  {
   "cell_type": "code",
   "execution_count": 469,
   "metadata": {},
   "outputs": [
    {
     "name": "stdout",
     "output_type": "stream",
     "text": [
      "a,114\n",
      "b,40\n",
      "c,91\n",
      "d,65\n",
      "e,79\n",
      "f,110\n",
      "g,35\n"
     ]
    }
   ],
   "source": [
    "x = open('data.csv','r').readlines() #Leo el archivo\n",
    "x = [z.replace('\\n', '') for z in x] #Reemplazo retornos de carro por vacíos\n",
    "x = [z.split('\\t') for z in x] #Se separan donde esté una separación\n",
    "a = list([(z[3]) for z in x[0:]])\n",
    "h = [int(z[1]) for z in x[0:]]\n",
    "e = list(h)\n",
    "b = [z.split(',') for z in a]\n",
    "c = list([(z[0]) for z in b[0:]])\n",
    "d = list(set(c))\n",
    "d.sort()\n",
    "lenb = len(b)\n",
    "lend = len(d)\n",
    "for m in range (0,lend):\n",
    "    sum = 0\n",
    "    for i in range(0,lenb):\n",
    "        v = len(b[i])\n",
    "        u = b[i]\n",
    "        for j in range (0, v):\n",
    "            if u[j] == d[m]:\n",
    "                sum = sum + e[i]\n",
    "    print(d[m], end=\"\")\n",
    "    print(',', end=\"\")\n",
    "    print(sum)"
   ]
  },
  {
   "cell_type": "markdown",
   "metadata": {},
   "source": [
    "Solucion q13.py"
   ]
  },
  {
   "cell_type": "code",
   "execution_count": 505,
   "metadata": {},
   "outputs": [
    {
     "name": "stdout",
     "output_type": "stream",
     "text": [
      "E,22\n",
      "A,14\n",
      "B,14\n",
      "A,22\n",
      "C,18\n",
      "A,14\n",
      "A,23\n",
      "B,6\n",
      "E,31\n",
      "B,30\n",
      "C,13\n",
      "C,22\n",
      "D,24\n",
      "E,14\n",
      "B,18\n",
      "D,18\n",
      "E,29\n",
      "D,18\n",
      "E,16\n",
      "E,13\n",
      "E,15\n",
      "E,20\n",
      "D,12\n",
      "A,20\n",
      "E,31\n",
      "E,21\n",
      "A,9\n",
      "E,25\n",
      "A,21\n",
      "C,20\n",
      "A,23\n",
      "D,32\n",
      "E,11\n",
      "B,24\n",
      "B,24\n",
      "D,8\n",
      "B,18\n",
      "C,8\n",
      "E,11\n",
      "E,16\n"
     ]
    }
   ],
   "source": [
    "x = open('data.csv','r').readlines() #Leo el archivo\n",
    "x = [z.replace('\\n', '') for z in x] #Reemplazo retornos de carro por vacíos\n",
    "x = [z.split('\\t') for z in x] #Se separan donde esté una separación\n",
    "a = list([(z[4]) for z in x[0:]])\n",
    "k = str(a)\n",
    "g = list([(z[0]) for z in x[0:]])\n",
    "import re \n",
    "cadena = re.sub(\"\\D\", \"\", k)\n",
    "b = list(cadena)\n",
    "e = [int(z[0]) for z in b[0:]]\n",
    "h = [z.split(',') for z in a]\n",
    "lena = len(a)\n",
    "cont=0\n",
    "for i in range(0,lena):\n",
    "    if i == 0:\n",
    "        sum=0\n",
    "        u = (len(h[i]))\n",
    "        for j in range(cont,u):\n",
    "            sum = sum + e[j]\n",
    "            cont=u\n",
    "    elif i == 1:\n",
    "        sum=0\n",
    "        u = (len(h[i]))\n",
    "        s = cont + 1\n",
    "        r = s + u\n",
    "        for j in range(s,r):\n",
    "            sum = sum + e[j]\n",
    "    elif i > 1:\n",
    "        sum=0\n",
    "        s = s + u\n",
    "        u = (len(h[i]))\n",
    "        r = s + u\n",
    "        for j in range(s,r):\n",
    "            sum = sum + e[j-1]\n",
    "    print(g[i], end=\"\")\n",
    "    print(',', end=\"\")\n",
    "    print(sum)"
   ]
  },
  {
   "cell_type": "code",
   "execution_count": 498,
   "metadata": {},
   "outputs": [
    {
     "name": "stdout",
     "output_type": "stream",
     "text": [
      "E,22\n",
      "A,20\n",
      "B,20\n",
      "A,20\n",
      "C,20\n",
      "A,22\n",
      "A,24\n",
      "B,12\n",
      "E,24\n",
      "B,24\n",
      "C,22\n",
      "C,12\n",
      "D,22\n",
      "E,12\n",
      "B,22\n",
      "D,20\n",
      "E,24\n",
      "D,12\n",
      "E,12\n",
      "E,12\n",
      "E,12\n",
      "E,12\n",
      "D,12\n",
      "A,22\n",
      "E,24\n",
      "E,24\n",
      "A,12\n",
      "E,22\n",
      "A,22\n",
      "C,24\n",
      "A,22\n",
      "D,24\n",
      "E,20\n",
      "B,24\n",
      "B,22\n",
      "D,12\n",
      "B,22\n",
      "C,12\n",
      "E,12\n",
      "E,12\n"
     ]
    }
   ],
   "source": [
    "x = open('data.csv','r').readlines() #Leo el archivo\n",
    "x = [z.replace('\\n', '') for z in x] #Reemplazo retornos de carro por vacíos\n",
    "x = [z.split('\\t') for z in x] #Se separan donde esté una separación\n",
    "a = list([(z[4]) for z in x[0:]])\n",
    "k = str(a)\n",
    "g = list([(z[0]) for z in x[0:]])\n",
    "import re \n",
    "cadena = re.sub(\"\\D\", \"\", k)\n",
    "b = list(cadena)\n",
    "e = [int(z[0]) for z in b[0:]]\n",
    "h = [z.split(',') for z in a]\n",
    "lena = len(a)\n",
    "cont=0\n",
    "for i in range(0,lena):\n",
    "    sum=0\n",
    "    u = (len(h[i]))\n",
    "    if cont==0:\n",
    "        for j in range(0,u):\n",
    "            sum = sum + e[j]\n",
    "    print(g[i], end=\"\")\n",
    "    print(',', end=\"\")\n",
    "    print(sum)\n",
    "    elif cont!=0:\n",
    "         cont=cont+u\n",
    "         for j in range(cont,u):\n",
    "             sum = sum + e[j]\n",
    "         print(g[i], end=\"\")\n",
    "         print(',', end=\"\")\n",
    "         print(sum)"
   ]
  },
  {
   "cell_type": "code",
   "execution_count": 504,
   "metadata": {},
   "outputs": [
    {
     "data": {
      "text/plain": [
       "6"
      ]
     },
     "execution_count": 504,
     "metadata": {},
     "output_type": "execute_result"
    }
   ],
   "source": [
    "u = (len(h[6]))\n",
    "u"
   ]
  }
 ],
 "metadata": {
  "kernelspec": {
   "display_name": "Python 3",
   "language": "python",
   "name": "python3"
  },
  "language_info": {
   "codemirror_mode": {
    "name": "ipython",
    "version": 3
   },
   "file_extension": ".py",
   "mimetype": "text/x-python",
   "name": "python",
   "nbconvert_exporter": "python",
   "pygments_lexer": "ipython3",
   "version": "3.6.7"
  }
 },
 "nbformat": 4,
 "nbformat_minor": 2
}
